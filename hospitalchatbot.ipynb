{
 "cells": [
  {
   "cell_type": "code",
   "execution_count": 1,
   "id": "1231122d-a76c-4471-81d2-923abb32894f",
   "metadata": {},
   "outputs": [
    {
     "name": "stdout",
     "output_type": "stream",
     "text": [
      "Collecting python-aimlNote: you may need to restart the kernel to use updated packages.\n",
      "\n",
      "  Downloading python-aiml-0.9.3.zip (2.1 MB)\n",
      "     ---------------------------------------- 0.0/2.1 MB ? eta -:--:--\n",
      "     ---------------------------------------- 0.0/2.1 MB ? eta -:--:--\n",
      "     ---------------------------------------- 0.0/2.1 MB ? eta -:--:--\n",
      "     ---------------------------------------- 0.0/2.1 MB 165.2 kB/s eta 0:00:13\n",
      "     - -------------------------------------- 0.1/2.1 MB 393.8 kB/s eta 0:00:06\n",
      "     ---- ----------------------------------- 0.2/2.1 MB 1.0 MB/s eta 0:00:02\n",
      "     -------- ------------------------------- 0.4/2.1 MB 1.7 MB/s eta 0:00:02\n",
      "     -------------- ------------------------- 0.8/2.1 MB 2.6 MB/s eta 0:00:01\n",
      "     --------------------- ------------------ 1.1/2.1 MB 3.3 MB/s eta 0:00:01\n",
      "     --------------------------- ------------ 1.5/2.1 MB 3.8 MB/s eta 0:00:01\n",
      "     ----------------------------------- ---- 1.9/2.1 MB 4.3 MB/s eta 0:00:01\n",
      "     ---------------------------------------- 2.1/2.1 MB 4.4 MB/s eta 0:00:00\n",
      "  Preparing metadata (setup.py): started\n",
      "  Preparing metadata (setup.py): finished with status 'done'\n",
      "Requirement already satisfied: setuptools in c:\\users\\91922\\anaconda3\\lib\\site-packages (from python-aiml) (69.5.1)\n",
      "Building wheels for collected packages: python-aiml\n",
      "  Building wheel for python-aiml (setup.py): started\n",
      "  Building wheel for python-aiml (setup.py): finished with status 'done'\n",
      "  Created wheel for python-aiml: filename=python_aiml-0.9.3-py3-none-any.whl size=2122500 sha256=e1f324a38d85d9e36c17b35f17189ad615935f34dad1dc808e2b9c7da8ad2f8b\n",
      "  Stored in directory: c:\\users\\91922\\appdata\\local\\pip\\cache\\wheels\\d4\\34\\05\\c1b92f9583b8fa5cb65a2acd95f020e314cb599054e4682f33\n",
      "Successfully built python-aiml\n",
      "Installing collected packages: python-aiml\n",
      "Successfully installed python-aiml-0.9.3\n"
     ]
    }
   ],
   "source": [
    "pip install python-aiml"
   ]
  },
  {
   "cell_type": "code",
   "execution_count": 3,
   "id": "6418ccb3-e004-4ff5-a2b1-c1eba49ec18a",
   "metadata": {},
   "outputs": [],
   "source": [
    "import aiml"
   ]
  },
  {
   "cell_type": "code",
   "execution_count": 5,
   "id": "ca8fab42-611c-4bfc-9484-30db3f9b0ba5",
   "metadata": {},
   "outputs": [],
   "source": [
    "kernel = aiml.Kernel()"
   ]
  },
  {
   "cell_type": "code",
   "execution_count": 7,
   "id": "fabf9c78-f138-4802-ba60-31dd06c22ef0",
   "metadata": {},
   "outputs": [
    {
     "ename": "SyntaxError",
     "evalue": "(unicode error) 'unicodeescape' codec can't decode bytes in position 2-3: truncated \\UXXXXXXXX escape (2851158860.py, line 1)",
     "output_type": "error",
     "traceback": [
      "\u001b[1;36m  Cell \u001b[1;32mIn[7], line 1\u001b[1;36m\u001b[0m\n\u001b[1;33m    kernel.learn(\"C:\\Users\\91922\\hospital.xml\")\u001b[0m\n\u001b[1;37m                 ^\u001b[0m\n\u001b[1;31mSyntaxError\u001b[0m\u001b[1;31m:\u001b[0m (unicode error) 'unicodeescape' codec can't decode bytes in position 2-3: truncated \\UXXXXXXXX escape\n"
     ]
    }
   ],
   "source": [
    "kernel.learn(\"C:\\Users\\91922\\hospital.xml\")"
   ]
  },
  {
   "cell_type": "code",
   "execution_count": 9,
   "id": "44f57bf2-e5d6-4efb-af5b-a4e14b7c8151",
   "metadata": {},
   "outputs": [
    {
     "ename": "SyntaxError",
     "evalue": "(unicode error) 'unicodeescape' codec can't decode bytes in position 2-3: truncated \\UXXXXXXXX escape (2851158860.py, line 1)",
     "output_type": "error",
     "traceback": [
      "\u001b[1;36m  Cell \u001b[1;32mIn[9], line 1\u001b[1;36m\u001b[0m\n\u001b[1;33m    kernel.learn(\"C:\\Users\\91922\\hospital.xml\")\u001b[0m\n\u001b[1;37m                 ^\u001b[0m\n\u001b[1;31mSyntaxError\u001b[0m\u001b[1;31m:\u001b[0m (unicode error) 'unicodeescape' codec can't decode bytes in position 2-3: truncated \\UXXXXXXXX escape\n"
     ]
    }
   ],
   "source": [
    "kernel.learn(\"C:\\Users\\91922\\hospital.xml\")"
   ]
  },
  {
   "cell_type": "code",
   "execution_count": 11,
   "id": "fadf3baa-6cf4-4cb1-a50c-be19aa684685",
   "metadata": {},
   "outputs": [
    {
     "name": "stdout",
     "output_type": "stream",
     "text": [
      "Loading C:\\Users\\91922\\hospital.xml...done (0.01 seconds)\n"
     ]
    }
   ],
   "source": [
    "kernel.learn(\"C:\\\\Users\\\\91922\\\\hospital.xml\")\n"
   ]
  },
  {
   "cell_type": "code",
   "execution_count": 13,
   "id": "2e51bf1c-c6c2-4eec-bedd-0521c43f4480",
   "metadata": {},
   "outputs": [
    {
     "name": "stderr",
     "output_type": "stream",
     "text": [
      "WARNING: No match found for input: load aiml b\n"
     ]
    },
    {
     "data": {
      "text/plain": [
       "''"
      ]
     },
     "execution_count": 13,
     "metadata": {},
     "output_type": "execute_result"
    }
   ],
   "source": [
    "kernel.respond(\"load aiml b\")"
   ]
  },
  {
   "cell_type": "code",
   "execution_count": 15,
   "id": "f92de890-b87d-43d1-9d85-38d5a014d0b5",
   "metadata": {},
   "outputs": [
    {
     "name": "stdout",
     "output_type": "stream",
     "text": [
      "Loading C:\\Users\\91922\\hospitalchat.aiml...done (0.01 seconds)\n"
     ]
    },
    {
     "data": {
      "text/plain": [
       "''"
      ]
     },
     "execution_count": 15,
     "metadata": {},
     "output_type": "execute_result"
    }
   ],
   "source": [
    "kernel.respond(\"load aiml\")"
   ]
  },
  {
   "cell_type": "code",
   "execution_count": null,
   "id": "913df3a8-44a7-46f7-be1a-994a14eff263",
   "metadata": {},
   "outputs": [
    {
     "name": "stdin",
     "output_type": "stream",
     "text": [
      ">input hello\n"
     ]
    },
    {
     "name": "stderr",
     "output_type": "stream",
     "text": [
      "WARNING: No match found for input: hello\n"
     ]
    },
    {
     "name": "stdout",
     "output_type": "stream",
     "text": [
      ">Bot: \n"
     ]
    },
    {
     "name": "stdin",
     "output_type": "stream",
     "text": [
      ">input WHERE ARE YOU LOCATED\n"
     ]
    },
    {
     "name": "stdout",
     "output_type": "stream",
     "text": [
      ">Bot: Our hospital is located at MG Road, Thane, Maharashtra, 200001.\n"
     ]
    },
    {
     "name": "stdin",
     "output_type": "stream",
     "text": [
      ">input HOW CAN I CHECK MY TEST RESULTS\n"
     ]
    },
    {
     "name": "stdout",
     "output_type": "stream",
     "text": [
      ">Bot: To check your test results, log in to your patient portal or contact your healthcare provider's office for assistance.\n"
     ]
    }
   ],
   "source": [
    "while True:\n",
    "    input_txt= input(\">input\")\n",
    "    response =kernel.respond(input_txt)\n",
    "    print(\">Bot: \"+response)"
   ]
  },
  {
   "cell_type": "code",
   "execution_count": null,
   "id": "37fe0847-a4e2-4596-8f4b-98c58ce85a3d",
   "metadata": {},
   "outputs": [],
   "source": []
  }
 ],
 "metadata": {
  "kernelspec": {
   "display_name": "Python 3 (ipykernel)",
   "language": "python",
   "name": "python3"
  },
  "language_info": {
   "codemirror_mode": {
    "name": "ipython",
    "version": 3
   },
   "file_extension": ".py",
   "mimetype": "text/x-python",
   "name": "python",
   "nbconvert_exporter": "python",
   "pygments_lexer": "ipython3",
   "version": "3.12.4"
  }
 },
 "nbformat": 4,
 "nbformat_minor": 5
}
